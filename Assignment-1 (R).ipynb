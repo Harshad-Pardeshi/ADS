{
 "cells": [
  {
   "cell_type": "code",
   "execution_count": 2,
   "metadata": {
    "collapsed": true
   },
   "outputs": [],
   "source": [
    "#Assignment1\n",
    "#Load ClassData.csv into a dataframe\n",
    "class_data.csv <- read.csv(\"D:\\\\sem2\\\\Advances in Data Sciences and Architecture\\\\ClassData.csv\",header=T)"
   ]
  },
  {
   "cell_type": "code",
   "execution_count": 3,
   "metadata": {
    "collapsed": false
   },
   "outputs": [
    {
     "name": "stdout",
     "output_type": "stream",
     "text": [
      "[1] \"Minimun GPA is: 3.06\"\n",
      "[1] \"Maximum GPA is: 4\"\n",
      "[1] \"Mean GPA is: 3.50970588235294\"\n",
      "[1] \"Median GPA is: 3.5\"\n"
     ]
    }
   ],
   "source": [
    "#Question1. Get Minimum, Maximum, Average and Median of GPA\n",
    "print(paste0(\"Minimun GPA is: \",min(class_data.csv$GPA)))\n",
    "print(paste0(\"Maximum GPA is: \",max(class_data.csv$GPA)))\n",
    "print(paste0(\"Mean GPA is: \",mean(class_data.csv$GPA)))\n",
    "print(paste0(\"Median GPA is: \",median(class_data.csv$GPA)))"
   ]
  },
  {
   "cell_type": "code",
   "execution_count": 4,
   "metadata": {
    "collapsed": false
   },
   "outputs": [
    {
     "name": "stdout",
     "output_type": "stream",
     "text": [
      "[1] \"Minimum Work Experience is: 1\"\n",
      "[1] \"Maximum Work Experience is: 6\"\n",
      "[1] \"Mean Work Experience is: 2.81176470588235\"\n",
      "[1] \"Median Work Experience is: 2.5\"\n"
     ]
    }
   ],
   "source": [
    "#Question2. Get Minimum, Maximum, Average and Median of Work Experience\n",
    "print(paste0(\"Minimum Work Experience is: \",min(class_data.csv$Years.of.work.experience)))\n",
    "print(paste0(\"Maximum Work Experience is: \",max(class_data.csv$Years.of.work.experience)))\n",
    "print(paste0(\"Mean Work Experience is: \",mean(class_data.csv$Years.of.work.experience)))\n",
    "print(paste0(\"Median Work Experience is: \",median(class_data.csv$Years.of.work.experience)))"
   ]
  },
  {
   "cell_type": "code",
   "execution_count": 5,
   "metadata": {
    "collapsed": false
   },
   "outputs": [
    {
     "name": "stdout",
     "output_type": "stream",
     "text": [
      "[1] \"Mode of salary is: 60000\"\n"
     ]
    }
   ],
   "source": [
    "#Question3. Get Mode of salary\n",
    "getmode <- function(v) {\n",
    "  uniqv <- unique(v)\n",
    "  uniqv[which.max(tabulate(match(v, uniqv)))]\n",
    "}\n",
    "print(paste0(\"Mode of salary is: \",getmode(class_data.csv$Latest.salary..per.year.)))"
   ]
  },
  {
   "cell_type": "code",
   "execution_count": 6,
   "metadata": {
    "collapsed": false
   },
   "outputs": [
    {
     "name": "stdout",
     "output_type": "stream",
     "text": [
      "[1] \"Percentage of student with and without a CoOp is as follows: \"\n"
     ]
    },
    {
     "data": {
      "text/html": [
       "<table>\n",
       "<thead><tr><th scope=col>Var1</th><th scope=col>Freq</th><th scope=col>Percentage</th></tr></thead>\n",
       "<tbody>\n",
       "\t<tr><td>FALSE   </td><td>10      </td><td>29.41176</td></tr>\n",
       "\t<tr><td>TRUE    </td><td>24      </td><td>70.58824</td></tr>\n",
       "</tbody>\n",
       "</table>\n"
      ],
      "text/latex": [
       "\\begin{tabular}{r|lll}\n",
       " Var1 & Freq & Percentage\\\\\n",
       "\\hline\n",
       "\t FALSE    & 10       & 29.41176\\\\\n",
       "\t TRUE     & 24       & 70.58824\\\\\n",
       "\\end{tabular}\n"
      ],
      "text/markdown": [
       "\n",
       "Var1 | Freq | Percentage | \n",
       "|---|---|\n",
       "| FALSE    | 10       | 29.41176 | \n",
       "| TRUE     | 24       | 70.58824 | \n",
       "\n",
       "\n"
      ],
      "text/plain": [
       "  Var1  Freq Percentage\n",
       "1 FALSE 10   29.41176  \n",
       "2 TRUE  24   70.58824  "
      ]
     },
     "metadata": {},
     "output_type": "display_data"
    }
   ],
   "source": [
    "#Question4. Get percentage of student with and without a Co-Op\n",
    "CountOfResponses<-table(class_data.csv$Coops.Internships..YN.=='Y'| class_data.csv$Coops.Internships..YN.=='y')\n",
    "print(\"Percentage of student with and without a CoOp is as follows: \")\n",
    "transform(CountOfResponses,Percentage=Freq/nrow(class_data.csv)*100)"
   ]
  },
  {
   "cell_type": "code",
   "execution_count": 7,
   "metadata": {
    "collapsed": false
   },
   "outputs": [
    {
     "name": "stdout",
     "output_type": "stream",
     "text": [
      "[1] \"Number of students with more than 500 LinkedIn Contacts are: 10\"\n"
     ]
    }
   ],
   "source": [
    "#Question5. How any student have more than 500 LinkedIn contacts\n",
    "print(paste0(\"Number of students with more than 500 LinkedIn Contacts are: \",nrow(class_data.csv[class_data.csv$Number.of.contacts.on.Linkedin>500,])))"
   ]
  },
  {
   "cell_type": "code",
   "execution_count": 8,
   "metadata": {
    "collapsed": false
   },
   "outputs": [
    {
     "name": "stdout",
     "output_type": "stream",
     "text": [
      "[1] \"Inter Quanrantile range of salary after graduation is: 10000\"\n"
     ]
    }
   ],
   "source": [
    "#Question6. Inter Quanrantile range of salary after graduation\n",
    "print(paste0(\"Inter Quanrantile range of salary after graduation is: \",IQR(class_data.csv$Expected.Salary.after.graduation)))"
   ]
  }
 ],
 "metadata": {
  "anaconda-cloud": {},
  "kernelspec": {
   "display_name": "R",
   "language": "R",
   "name": "ir"
  },
  "language_info": {
   "codemirror_mode": "r",
   "file_extension": ".r",
   "mimetype": "text/x-r-source",
   "name": "R",
   "pygments_lexer": "r",
   "version": "3.3.2"
  }
 },
 "nbformat": 4,
 "nbformat_minor": 1
}
