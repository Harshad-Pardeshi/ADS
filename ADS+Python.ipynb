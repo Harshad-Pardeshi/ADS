{
 "cells": [
  {
   "cell_type": "code",
   "execution_count": 23,
   "metadata": {
    "collapsed": false
   },
   "outputs": [
    {
     "name": "stdout",
     "output_type": "stream",
     "text": [
      "Y 70.58823529411765\n",
      "N 29.411764705882355\n"
     ]
    }
   ],
   "source": [
    "coOpYN = classData[\"Coops/Internships (YN)\"]\n",
    "total = len(coOpYN)\n",
    "\n",
    "yes = 0\n",
    "no = 0\n",
    "\n",
    "for x in coOpYN:\n",
    "    if(x == \"Y\" or x== \"y\"):\n",
    "        yes = yes+1\n",
    "    elif(x == \"N\"):\n",
    "        no = no+1\n",
    "    \n",
    " \n",
    "print(\"Y\", yes/total * 100)\n",
    "print(\"N\", no/total * 100)"
   ]
  },
  {
   "cell_type": "code",
   "execution_count": 18,
   "metadata": {
    "collapsed": false
   },
   "outputs": [
    {
     "data": {
      "text/plain": [
       "10000.0"
      ]
     },
     "execution_count": 18,
     "metadata": {},
     "output_type": "execute_result"
    }
   ],
   "source": [
    "numpy.percentile(classData[\"Expected Salary after graduation\"],75) - numpy.percentile(classData[\"Expected Salary after graduation\"],25)"
   ]
  },
  {
   "cell_type": "code",
   "execution_count": 13,
   "metadata": {
    "collapsed": false
   },
   "outputs": [
    {
     "data": {
      "text/plain": [
       "10"
      ]
     },
     "execution_count": 13,
     "metadata": {},
     "output_type": "execute_result"
    }
   ],
   "source": [
    "linked = classData[\"Number of contacts on Linkedin\"]\n",
    "len(linked[linked>500])"
   ]
  },
  {
   "cell_type": "code",
   "execution_count": 7,
   "metadata": {
    "collapsed": false
   },
   "outputs": [
    {
     "data": {
      "text/plain": [
       "0    60000\n",
       "dtype: int64"
      ]
     },
     "execution_count": 7,
     "metadata": {},
     "output_type": "execute_result"
    }
   ],
   "source": [
    "classData[\"Latest salary (per year)\"].mode()"
   ]
  },
  {
   "cell_type": "code",
   "execution_count": 6,
   "metadata": {
    "collapsed": false
   },
   "outputs": [
    {
     "name": "stdout",
     "output_type": "stream",
     "text": [
      "Minimum: 1.0\n",
      "Maximum: 6.0\n",
      "Median: 2.5\n",
      "Average: 2.8117647058823527\n"
     ]
    }
   ],
   "source": [
    "maxExp, minExp, medianExp, avgExp = numpy.max(classData[\"Years of work experience\"]), numpy.min(classData[\"Years of work experience\"]), numpy.median(\n",
    "classData[\"Years of work experience\"]), numpy.mean(classData[\"Years of work experience\"])\n",
    "\n",
    "print('Minimum:', minExp)\n",
    "print('Maximum:', maxExp)\n",
    "print('Median:', medianExp)\n",
    "print('Average:', avgExp)"
   ]
  },
  {
   "cell_type": "code",
   "execution_count": 3,
   "metadata": {
    "collapsed": false
   },
   "outputs": [
    {
     "name": "stdout",
     "output_type": "stream",
     "text": [
      "Minimum: 3.06\n",
      "Maximum: 4.0\n",
      "Median: 3.5\n",
      "Average: 3.5097058823529426\n"
     ]
    }
   ],
   "source": [
    "maxGPA, minGPA, medianGPA, avgGPA = numpy.max(classData[\"GPA\"]), numpy.min(classData[\"GPA\"]), numpy.median(\n",
    "classData[\"GPA\"]), numpy.mean(classData[\"GPA\"])\n",
    "\n",
    "print('Minimum:', minGPA)\n",
    "print('Maximum:', maxGPA)\n",
    "print('Median:', medianGPA)\n",
    "print('Average:', avgGPA)"
   ]
  },
  {
   "cell_type": "code",
   "execution_count": 2,
   "metadata": {
    "collapsed": false
   },
   "outputs": [],
   "source": [
    "import pandas as pd\n",
    "import numpy\n",
    "classData = pd.read_csv('C:\\\\Data\\\\Important\\\\Study\\\\ADS\\\\Assignment\\\\ADS-Python\\\\ClassData.csv')"
   ]
  }
 ],
 "metadata": {
  "kernelspec": {
   "display_name": "Python [conda root]",
   "language": "python",
   "name": "conda-root-py"
  },
  "language_info": {
   "codemirror_mode": {
    "name": "ipython",
    "version": 3
   },
   "file_extension": ".py",
   "mimetype": "text/x-python",
   "name": "python",
   "nbconvert_exporter": "python",
   "pygments_lexer": "ipython3",
   "version": "3.5.2"
  }
 },
 "nbformat": 4,
 "nbformat_minor": 1
}
