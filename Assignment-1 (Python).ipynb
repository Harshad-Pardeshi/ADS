{
 "cells": [
  {
   "cell_type": "code",
   "execution_count": 1,
   "metadata": {
    "collapsed": true
   },
   "outputs": [],
   "source": [
    "#Assignment1\n",
    "#Importing packages and data\n",
    "import pandas as pd\n",
    "import numpy as np\n",
    "data = pd.read_csv(\"D:\\\\sem2\\\\Advances in Data Sciences and Architecture\\\\ClassData.csv\")"
   ]
  },
  {
   "cell_type": "code",
   "execution_count": 2,
   "metadata": {
    "collapsed": false
   },
   "outputs": [
    {
     "name": "stdout",
     "output_type": "stream",
     "text": [
      "Minimum GPA is: 3.06\n",
      "Maximum GPA is: 4.0\n",
      "Mean GPA is: 3.5097058823529426\n",
      "Median GPA is: 3.5\n"
     ]
    }
   ],
   "source": [
    "#Question1. Get Minimum, Maximum, Average and Median of GPA\n",
    "print('Minimum GPA is:',data['GPA'].min(),sep=' ')\n",
    "print('Maximum GPA is:',data['GPA'].max(),sep=' ')\n",
    "print('Mean GPA is:',data['GPA'].mean(),sep=' ')\n",
    "print('Median GPA is:',data['GPA'].median(),sep=' ')"
   ]
  },
  {
   "cell_type": "code",
   "execution_count": 3,
   "metadata": {
    "collapsed": false
   },
   "outputs": [
    {
     "name": "stdout",
     "output_type": "stream",
     "text": [
      "Minumum work experience is: 1.0\n",
      "Maximum work experience is: 6.0\n",
      "Mean work experience is: 2.8117647058823527\n",
      "Median work experience is: 2.5\n"
     ]
    }
   ],
   "source": [
    "#Question2. Get Minimum, Maximum, Average and Median of Work Experience\n",
    "print('Minumum work experience is:',data['Years of work experience'].min(),sep=' ')\n",
    "print('Maximum work experience is:',data['Years of work experience'].max(),sep=' ')\n",
    "print('Mean work experience is:',data['Years of work experience'].mean(),sep=' ')\n",
    "print('Median work experience is:',data['Years of work experience'].median(),sep=' ')"
   ]
  },
  {
   "cell_type": "code",
   "execution_count": 4,
   "metadata": {
    "collapsed": false
   },
   "outputs": [
    {
     "name": "stdout",
     "output_type": "stream",
     "text": [
      "Mode of salary is: 0    60000\n",
      "dtype: int64\n"
     ]
    }
   ],
   "source": [
    "#Question3. Get Mode of salary\n",
    "print('Mode of salary is:',data['Latest salary (per year)'].mode(),sep=' ')"
   ]
  },
  {
   "cell_type": "code",
   "execution_count": 5,
   "metadata": {
    "collapsed": false
   },
   "outputs": [
    {
     "name": "stdout",
     "output_type": "stream",
     "text": [
      "Student with Co-Op:  70.58823529411765\n",
      "Students without Co-Op:  29.411764705882355\n"
     ]
    }
   ],
   "source": [
    "#Question4. Get percentage of student with and without a CoOp\n",
    "from scipy import stats\n",
    "class_strength = len(data)\n",
    "coop_strength = len(data[(data['Coops/Internships (YN)'] == 'Y')])\n",
    "nocoop_strength = len(data[(data['Coops/Internships (YN)'] == 'N')])\n",
    "coop_percentage = coop_strength / class_strength * 100\n",
    "print('Student with Co-Op: ',coop_percentage)\n",
    "nocoop_percentage = nocoop_strength / class_strength * 100\n",
    "print('Students without Co-Op: ',nocoop_percentage)"
   ]
  },
  {
   "cell_type": "code",
   "execution_count": 6,
   "metadata": {
    "collapsed": false
   },
   "outputs": [
    {
     "name": "stdout",
     "output_type": "stream",
     "text": [
      "Number of student with more than 500 LinkedIn contacts:  10\n"
     ]
    }
   ],
   "source": [
    "#Question5. How any student have more than 500 LinkedIn contacts\n",
    "print('Number of student with more than 500 LinkedIn contacts: ',len(data[(data['Number of contacts on Linkedin'] > 500)]))"
   ]
  },
  {
   "cell_type": "code",
   "execution_count": 7,
   "metadata": {
    "collapsed": false
   },
   "outputs": [
    {
     "name": "stdout",
     "output_type": "stream",
     "text": [
      "Inter Quanrantile range of salary after graduation is:  10000.0\n"
     ]
    }
   ],
   "source": [
    "#Question6. Inter Quanrantile range of salary after graduation\n",
    "q75, q25 = np.percentile(data['Expected Salary after graduation'], [75,25])\n",
    "iqr = q75 - q25\n",
    "print('Inter Quanrantile range of salary after graduation is: ',iqr)"
   ]
  }
 ],
 "metadata": {
  "anaconda-cloud": {},
  "kernelspec": {
   "display_name": "Python [default]",
   "language": "python",
   "name": "python3"
  },
  "language_info": {
   "codemirror_mode": {
    "name": "ipython",
    "version": 3
   },
   "file_extension": ".py",
   "mimetype": "text/x-python",
   "name": "python",
   "nbconvert_exporter": "python",
   "pygments_lexer": "ipython3",
   "version": "3.5.2"
  }
 },
 "nbformat": 4,
 "nbformat_minor": 1
}
